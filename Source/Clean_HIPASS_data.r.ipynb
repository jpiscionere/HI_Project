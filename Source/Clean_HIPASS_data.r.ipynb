{
 "cells": [
  {
   "cell_type": "code",
   "execution_count": 46,
   "metadata": {
    "collapsed": true
   },
   "outputs": [],
   "source": [
    "H0=100\n",
    "DEG_TO_RAD=0.01745328888\n",
    "RAD_TO_DEG=57.2957914331"
   ]
  },
  {
   "cell_type": "code",
   "execution_count": 47,
   "metadata": {
    "collapsed": true
   },
   "outputs": [],
   "source": [
    "library('ggplot2')"
   ]
  },
  {
   "cell_type": "code",
   "execution_count": 48,
   "metadata": {
    "collapsed": true
   },
   "outputs": [],
   "source": [
    "library(\"astrolibR\")"
   ]
  },
  {
   "cell_type": "code",
   "execution_count": 65,
   "metadata": {
    "collapsed": true
   },
   "outputs": [],
   "source": [
    "library(stringi)"
   ]
  },
  {
   "cell_type": "code",
   "execution_count": 49,
   "metadata": {
    "collapsed": false
   },
   "outputs": [],
   "source": [
    "data_groups_full=read.csv(\"../Data/2mass_groups.csv\",skip=4)"
   ]
  },
  {
   "cell_type": "code",
   "execution_count": 50,
   "metadata": {
    "collapsed": true
   },
   "outputs": [],
   "source": [
    "data=read.csv(\"../Data/HOPCAT2005TabSep.csv\")"
   ]
  },
  {
   "cell_type": "code",
   "execution_count": 51,
   "metadata": {
    "collapsed": false
   },
   "outputs": [],
   "source": [
    "df=data.frame(data)\n",
    "df_HIPASS=na.omit(df)"
   ]
  },
  {
   "cell_type": "code",
   "execution_count": 52,
   "metadata": {
    "collapsed": true
   },
   "outputs": [],
   "source": [
    "coords=glactc(gl = data_groups_full$Galactic.longitude,gb = data_groups_full$Galactic.latitude,j=2,year = 2000,degree = TRUE)"
   ]
  },
  {
   "cell_type": "code",
   "execution_count": 53,
   "metadata": {
    "collapsed": false
   },
   "outputs": [],
   "source": [
    "data_groups_full$RA=coords$ra\n",
    "data_groups_full$Dec=coords$dec\n",
    "df_2MASS_South<-subset(data_groups_full,Dec < 0)"
   ]
  },
  {
   "cell_type": "code",
   "execution_count": 54,
   "metadata": {
    "collapsed": true
   },
   "outputs": [],
   "source": [
    "coords=glactc(gl = df_HIPASS$HicatExtl,gb = df_HIPASS$HicatExtb,j=2,year = 2000,degree = TRUE)\n",
    "df_HIPASS$RA=coords$ra\n",
    "df_HIPASS$Dec=coords$dec"
   ]
  },
  {
   "cell_type": "code",
   "execution_count": 55,
   "metadata": {
    "collapsed": false
   },
   "outputs": [
    {
     "data": {
      "text/html": [
       "4315"
      ],
      "text/latex": [
       "4315"
      ],
      "text/markdown": [
       "4315"
      ],
      "text/plain": [
       "[1] 4315"
      ]
     },
     "metadata": {},
     "output_type": "display_data"
    },
    {
     "data": {
      "text/html": [
       "3618"
      ],
      "text/latex": [
       "3618"
      ],
      "text/markdown": [
       "3618"
      ],
      "text/plain": [
       "[1] 3618"
      ]
     },
     "metadata": {},
     "output_type": "display_data"
    },
    {
     "data": {
      "text/html": [
       "3202"
      ],
      "text/latex": [
       "3202"
      ],
      "text/markdown": [
       "3202"
      ],
      "text/plain": [
       "[1] 3202"
      ]
     },
     "metadata": {},
     "output_type": "display_data"
    }
   ],
   "source": [
    "length(df_HIPASS$Morphology)\n",
    "length(which(df_HIPASS$Bj_Mag_AUTO_Calibrated != \"XXXXX\"))\n",
    "length(which(df_HIPASS$Morphology != \"XXXXX\"))"
   ]
  },
  {
   "cell_type": "code",
   "execution_count": 67,
   "metadata": {
    "collapsed": false
   },
   "outputs": [
    {
     "data": {
      "text/html": [
       "3618"
      ],
      "text/latex": [
       "3618"
      ],
      "text/markdown": [
       "3618"
      ],
      "text/plain": [
       "[1] 3618"
      ]
     },
     "metadata": {},
     "output_type": "display_data"
    },
    {
     "data": {
      "text/html": [
       "'integer'"
      ],
      "text/latex": [
       "'integer'"
      ],
      "text/markdown": [
       "'integer'"
      ],
      "text/plain": [
       "[1] \"integer\""
      ]
     },
     "metadata": {},
     "output_type": "display_data"
    }
   ],
   "source": [
    "df_HIPASS$Bj_Mag_AUTO_Calibrated[which(df_HIPASS$Bj_Mag_AUTO_Calibrated == \"XXXXX\")]=NA\n",
    "df_HIPASS=na.omit(df_HIPASS)\n",
    "length(df_HIPASS$Bj_Mag_AUTO_Calibrated)\n",
    "typeof(df_HIPASS$Bj_Mag_AUTO_Calibrated)\n",
    "df_HIPASS$Morphology=stri_replace_all_fixed(df_HIPASS$Morphology, \" \", \"\")"
   ]
  },
  {
   "cell_type": "code",
   "execution_count": 68,
   "metadata": {
    "collapsed": false
   },
   "outputs": [],
   "source": [
    "galaxy_output_df=data.frame(ID=df_HIPASS$ID,\n",
    "                  RA=df_HIPASS$RA,\n",
    "                  Dec=df_HIPASS$Dec,\n",
    "                  Velocity_vel_mon=df_HIPASS$vel_mom,\n",
    "                  Bj_mag=df_HIPASS$Bj_Mag_AUTO_Calibrated,\n",
    "                  R_mag=df_HIPASS$Red_Mag_AUTO_Calibrated,\n",
    "                  I_mag=df_HIPASS$I_Mag_AUTO_Calibrated,\n",
    "                  S_int=df_HIPASS$Sint,\n",
    "                  Morphology=df_HIPASS$Morphology)"
   ]
  },
  {
   "cell_type": "code",
   "execution_count": 69,
   "metadata": {
    "collapsed": false
   },
   "outputs": [],
   "source": [
    "write.table(galaxy_output_df,\"HIPASS_clean.txt\",sep=\"\\t\",row.names = FALSE,col.names = FALSE,quote = FALSE)"
   ]
  },
  {
   "cell_type": "code",
   "execution_count": 24,
   "metadata": {
    "collapsed": false
   },
   "outputs": [
    {
     "data": {
      "text/plain": [
       " The.Catalogue.of.Principal.Galaxies..PGC..Number Galactic.longitude\n",
       " Min.   :     12                                  Min.   :  0.0     \n",
       " 1st Qu.:  30499                                  1st Qu.:203.2     \n",
       " Median :  67245                                  Median :268.5     \n",
       " Mean   : 553094                                  Mean   :235.5     \n",
       " 3rd Qu.: 242701                                  3rd Qu.:313.2     \n",
       " Max.   :5061296                                  Max.   :360.0     \n",
       "                                                                    \n",
       " Galactic.latitude Supergalactic.longitude Supergalactic.latitude\n",
       " Min.   :-89.73    Min.   :  2.918         Min.   :-89.039       \n",
       " 1st Qu.:-44.26    1st Qu.:152.561         1st Qu.:-38.258       \n",
       " Median :-20.93    Median :210.237         Median : -8.906       \n",
       " Mean   :-14.32    Mean   :206.309         Mean   :-11.195       \n",
       " 3rd Qu.: 20.08    3rd Qu.:254.060         3rd Qu.: 12.934       \n",
       " Max.   : 62.78    Max.   :357.738         Max.   : 72.699       \n",
       "                                                                 \n",
       " Numeric.type.from.LEDA..No.type..Ty.99.. Heliocentric.velocity\n",
       " Min.   :-5.000                           Min.   :    0        \n",
       " 1st Qu.:-1.800                           1st Qu.: 5344        \n",
       " Median : 1.000                           Median : 8446        \n",
       " Mean   : 4.779                           Mean   : 8928        \n",
       " 3rd Qu.: 3.500                           3rd Qu.:11821        \n",
       " Max.   :99.000                           Max.   :67860        \n",
       "                                                               \n",
       " Velocity.in.Local.Sheet.reference.frame..Tully.et.al..2008.\n",
       " Min.   : -297                                              \n",
       " 1st Qu.: 5218                                              \n",
       " Median : 8377                                              \n",
       " Mean   : 8800                                              \n",
       " 3rd Qu.:11674                                              \n",
       " Max.   :67787                                              \n",
       "                                                            \n",
       " Velocity.in.CMB.frame..cosmological.adjustment.described.in.CF2.data.paper\n",
       " Min.   :   63                                                             \n",
       " 1st Qu.: 5415                                                             \n",
       " Median : 8616                                                             \n",
       " Mean   : 9227                                                             \n",
       " 3rd Qu.:12220                                                             \n",
       " Max.   :23996                                                             \n",
       "                                                                           \n",
       " J.H.total.color..extinction.corrected J.Ks.total.color..extinction.corrected\n",
       " Min.   :-0.4400                       Min.   :0.0200                        \n",
       " 1st Qu.: 0.6400                       1st Qu.:0.8900                        \n",
       " Median : 0.6900                       Median :0.9600                        \n",
       " Mean   : 0.6905                       Mean   :0.9707                        \n",
       " 3rd Qu.: 0.7400                       3rd Qu.:1.0400                        \n",
       " Max.   : 3.8800                       Max.   :3.8900                        \n",
       "                                                                             \n",
       " Ks.total.magnitude..extinction.corrected\n",
       " Min.   : 3.90                           \n",
       " 1st Qu.:10.50                           \n",
       " Median :11.02                           \n",
       " Mean   :10.81                           \n",
       " 3rd Qu.:11.35                           \n",
       " Max.   :11.75                           \n",
       "                                         \n",
       " Log.intrinsic.K.luminosity.at.group.distance..d.Vgp.100.Mpc\n",
       " Min.   : 6.88                                              \n",
       " 1st Qu.:10.54                                              \n",
       " Median :10.82                                              \n",
       " Mean   :10.78                                              \n",
       " 3rd Qu.:11.08                                              \n",
       " Max.   :11.89                                              \n",
       "                                                            \n",
       " Log.smoothed.luminosity.density.at.nearest.point.on.1.Mpc.h.grid\n",
       " Min.   : 8.04                                                   \n",
       " 1st Qu.: 9.78                                                   \n",
       " Median :10.09                                                   \n",
       " Mean   :10.11                                                   \n",
       " 3rd Qu.:10.44                                                   \n",
       " Max.   :11.59                                                   \n",
       " NA's   :127                                                     \n",
       " Nest.ID..north.1xxxxx Number.of.group..nest..members.in.2MRS.K.11.75\n",
       " Min.   :100003        Min.   :  1.000                               \n",
       " 1st Qu.:105452        1st Qu.:  1.000                               \n",
       " Median :200398        Median :  2.000                               \n",
       " Mean   :166288        Mean   :  7.253                               \n",
       " 3rd Qu.:204184        3rd Qu.:  5.000                               \n",
       " Max.   :230014        Max.   :167.000                               \n",
       "                                                                     \n",
       " PGC.identification.of.brightest.member.of.group Distance.D.Vgp.100.Mpc\n",
       " Min.   :     12                                 Min.   :  0.60        \n",
       " 1st Qu.:  25313                                 1st Qu.: 53.60        \n",
       " Median :  62407                                 Median : 86.10        \n",
       " Mean   : 449890                                 Mean   : 92.27        \n",
       " 3rd Qu.: 166213                                 3rd Qu.:122.10        \n",
       " Max.   :5061286                                 Max.   :240.00        \n",
       "                                                                       \n",
       " Distance.modulus.from.velocity.assuming.H.100.km.s.Mpc\n",
       " Min.   :24.00                                         \n",
       " 1st Qu.:33.64                                         \n",
       " Median :34.68                                         \n",
       " Mean   :34.48                                         \n",
       " 3rd Qu.:35.43                                         \n",
       " Max.   :36.90                                         \n",
       "                                                       \n",
       " Supergalactic.longitude.of.group..average.weighted.by.luminosity\n",
       " Min.   :  2.918                                                 \n",
       " 1st Qu.:152.586                                                 \n",
       " Median :210.235                                                 \n",
       " Mean   :206.311                                                 \n",
       " 3rd Qu.:254.101                                                 \n",
       " Max.   :357.738                                                 \n",
       "                                                                 \n",
       " Supergalactic.latitude.of.group..average.weighted.by.luminosity\n",
       " Min.   :-89.039                                                \n",
       " 1st Qu.:-38.272                                                \n",
       " Median : -8.861                                                \n",
       " Mean   :-11.195                                                \n",
       " 3rd Qu.: 12.922                                                \n",
       " Max.   : 72.699                                                \n",
       "                                                                \n",
       " Log.summed.K.luminosity.of.group..adjusted.by.correction.factor\n",
       " Min.   : 6.88                                                  \n",
       " 1st Qu.:11.03                                                  \n",
       " Median :11.57                                                  \n",
       " Mean   :11.63                                                  \n",
       " 3rd Qu.:12.19                                                  \n",
       " Max.   :14.32                                                  \n",
       "                                                                \n",
       " Luminosity.selection.function.correction.factor\n",
       " Min.   :  1.000                                \n",
       " 1st Qu.:  1.310                                \n",
       " Median :  2.030                                \n",
       " Mean   :  5.566                                \n",
       " 3rd Qu.:  3.770                                \n",
       " Max.   :170.700                                \n",
       "                                                \n",
       " Projected.velocity.dispersion.anticipated.by.corrected.intrinsic.luminosity\n",
       " Min.   :   0.0                                                             \n",
       " 1st Qu.: 164.0                                                             \n",
       " Median : 264.0                                                             \n",
       " Mean   : 372.6                                                             \n",
       " 3rd Qu.: 456.0                                                             \n",
       " Max.   :2566.0                                                             \n",
       "                                                                            \n",
       " Projected.second.turnaround.radius.anticipated.by.corrected.intrinsic.luminosity\n",
       " Min.   :0.0000                                                                  \n",
       " 1st Qu.:0.3340                                                                  \n",
       " Median :0.5370                                                                  \n",
       " Mean   :0.7589                                                                  \n",
       " 3rd Qu.:0.9290                                                                  \n",
       " Max.   :5.2250                                                                  \n",
       "                                                                                 \n",
       " Unweighted.average.group.velocity.in.CMB.frame..cosmological.adjustment.described.in.CF2.data.paper\n",
       " Min.   :   63                                                                                      \n",
       " 1st Qu.: 5357                                                                                      \n",
       " Median : 8611                                                                                      \n",
       " Mean   : 9227                                                                                      \n",
       " 3rd Qu.:12208                                                                                      \n",
       " Max.   :23996                                                                                      \n",
       "                                                                                                    \n",
       " Bi.weight.group.velocity..if.Ngroup.4..in.CMB.frame..cosmological.adjustment.described.in.CF2.data.paper\n",
       " Min.   :  763                                                                                           \n",
       " 1st Qu.: 4788                                                                                           \n",
       " Median : 7750                                                                                           \n",
       " Mean   : 8427                                                                                           \n",
       " 3rd Qu.:11353                                                                                           \n",
       " Max.   :22323                                                                                           \n",
       " NA's   :15790                                                                                           \n",
       " Uncertainty.in.bi.weight.group.velocity\n",
       " Min.   :   3.0                         \n",
       " 1st Qu.:  64.0                         \n",
       " Median :  89.0                         \n",
       " Mean   : 115.4                         \n",
       " 3rd Qu.: 133.0                         \n",
       " Max.   :1091.0                         \n",
       " NA's   :15790                          \n",
       " Line.of.sight.bi.weight.velocity.dispersion.of.group.members..require.Ng.4\n",
       " Min.   :   6.0                                                            \n",
       " 1st Qu.: 204.0                                                            \n",
       " Median : 349.0                                                            \n",
       " Mean   : 444.3                                                            \n",
       " 3rd Qu.: 570.0                                                            \n",
       " Max.   :2440.0                                                            \n",
       " NA's   :15790                                                             \n",
       " Line.of.sight.velocity.dispersion.of.group.members..null.for.Ng.1\n",
       " Min.   :   0.0                                                   \n",
       " 1st Qu.:   0.0                                                   \n",
       " Median :  41.0                                                   \n",
       " Mean   : 174.6                                                   \n",
       " 3rd Qu.: 247.0                                                   \n",
       " Max.   :2485.0                                                   \n",
       "                                                                  \n",
       " Bi.weight.projected.virial.radius.Rij\n",
       " Min.   :0.077                        \n",
       " 1st Qu.:0.677                        \n",
       " Median :0.998                        \n",
       " Mean   :1.267                        \n",
       " 3rd Qu.:1.505                        \n",
       " Max.   :6.426                        \n",
       " NA's   :15790                        \n",
       " Uncertainty.in.bi.weight.projected.virial.radius.Rij\n",
       " Min.   :0.008                                       \n",
       " 1st Qu.:0.033                                       \n",
       " Median :0.061                                       \n",
       " Mean   :0.089                                       \n",
       " 3rd Qu.:0.104                                       \n",
       " Max.   :1.040                                       \n",
       " NA's   :15790                                       \n",
       " Group.mass..x10.12..from.virial.theorem.with.bi.weight.dispersion.and.radius.parameters\n",
       " Min.   :    0.035                                                                      \n",
       " 1st Qu.:   32.300                                                                      \n",
       " Median :  142.000                                                                      \n",
       " Mean   :  757.428                                                                      \n",
       " 3rd Qu.:  451.000                                                                      \n",
       " Max.   :27100.000                                                                      \n",
       " NA's   :15790                                                                          \n",
       " Group.mass..x10.12..based.on.corrected.intrinsic.luminosity.and.M.L.prescription\n",
       " Min.   :    0.00                                                                \n",
       " 1st Qu.:    6.58                                                                \n",
       " Median :   27.50                                                                \n",
       " Mean   :  381.38                                                                \n",
       " 3rd Qu.:  142.00                                                                \n",
       " Max.   :25300.00                                                                \n",
       "                                                                                 \n",
       " Crook.et.al...2007..low.density.group.ID\n",
       " Min.   :   0                            \n",
       " 1st Qu.:   0                            \n",
       " Median :   0                            \n",
       " Mean   : 201                            \n",
       " 3rd Qu.:  45                            \n",
       " Max.   :1538                            \n",
       "                                         \n",
       " Crook.et.al...2007..high.density.group.ID Lavaux.and.Hudson..2011..group.ID\n",
       " Min.   :   0.0                            Min.   :   0                     \n",
       " 1st Qu.:   0.0                            1st Qu.:   0                     \n",
       " Median :   0.0                            Median :   0                     \n",
       " Mean   : 100.4                            Mean   :1033                     \n",
       " 3rd Qu.:   0.0                            3rd Qu.:1762                     \n",
       " Max.   :1256.0                            Max.   :4715                     \n",
       "                                                                            \n",
       " Supergalactic.X..from.Vmod.assuming.H0.100.km.s.Mpc.\n",
       " Min.   :-232.200                                    \n",
       " 1st Qu.: -61.485                                    \n",
       " Median : -35.630                                    \n",
       " Mean   : -39.189                                    \n",
       " 3rd Qu.:  -9.755                                    \n",
       " Max.   : 145.130                                    \n",
       "                                                     \n",
       " Supergalactic.Y..from.Vmod.assuming.H0.100.km.s.Mpc.\n",
       " Min.   :-228.16                                     \n",
       " 1st Qu.: -57.48                                     \n",
       " Median : -19.95                                     \n",
       " Mean   : -18.82                                     \n",
       " 3rd Qu.:  22.31                                     \n",
       " Max.   : 205.23                                     \n",
       "                                                     \n",
       " Supergalactic.Z..from.Vmod.assuming.H0.100.km.s.Mpc.       RA          \n",
       " Min.   :-219.74                                      Min.   :  0.0036  \n",
       " 1st Qu.: -44.84                                      1st Qu.: 82.6565  \n",
       " Median :  -9.41                                      Median :179.6320  \n",
       " Mean   : -14.85                                      Mean   :175.4418  \n",
       " 3rd Qu.:  15.97                                      3rd Qu.:257.3032  \n",
       " Max.   : 212.60                                      Max.   :359.9801  \n",
       "                                                                        \n",
       "      Dec           \n",
       " Min.   :-89.33460  \n",
       " 1st Qu.:-47.02775  \n",
       " Median :-29.93314  \n",
       " Mean   :-31.94465  \n",
       " 3rd Qu.:-14.31880  \n",
       " Max.   : -0.00557  \n",
       "                    "
      ]
     },
     "metadata": {},
     "output_type": "display_data"
    }
   ],
   "source": [
    "summary(df_2MASS_South)"
   ]
  },
  {
   "cell_type": "code",
   "execution_count": 83,
   "metadata": {
    "collapsed": false
   },
   "outputs": [
    {
     "data": {
      "text/html": [
       "5.225"
      ],
      "text/latex": [
       "5.225"
      ],
      "text/markdown": [
       "5.225"
      ],
      "text/plain": [
       "[1] 5.225"
      ]
     },
     "metadata": {},
     "output_type": "display_data"
    },
    {
     "data": {
      "text/html": [
       "0.6"
      ],
      "text/latex": [
       "0.6"
      ],
      "text/markdown": [
       "0.6"
      ],
      "text/plain": [
       "[1] 0.6"
      ]
     },
     "metadata": {},
     "output_type": "display_data"
    },
    {
     "name": "stderr",
     "output_type": "stream",
     "text": [
      "Warning message:\n",
      "In asin(DEG_TO_RAD * 5.225/(2 * DEG_TO_RAD * 0.6)): NaNs produced"
     ]
    },
    {
     "data": {
      "text/html": [
       "NaN"
      ],
      "text/latex": [
       "NaN"
      ],
      "text/markdown": [
       "NaN"
      ],
      "text/plain": [
       "[1] NaN"
      ]
     },
     "metadata": {},
     "output_type": "display_data"
    },
    {
     "name": "stderr",
     "output_type": "stream",
     "text": [
      "Warning message:\n",
      "In asin(DEG_TO_RAD * max(df_2MASS_South$Projected.second.turnaround.radius.anticipated.by.corrected.intrinsic.luminosity)/(2 * : NaNs produced"
     ]
    }
   ],
   "source": [
    "max(df_2MASS_South$Projected.second.turnaround.radius.anticipated.by.corrected.intrinsic.luminosity)\n",
    "min(df_2MASS_South$Distance.D.Vgp.100.Mpc)\n",
    "\n",
    "asin(DEG_TO_RAD*5.225/(2*DEG_TO_RAD*0.6)) * 2 * RAD_TO_DEG\n",
    "\n",
    "Maximum_Dec_Separation=asin(DEG_TO_RAD*max(df_2MASS_South$Projected.second.turnaround.radius.anticipated.by.corrected.intrinsic.luminosity) / \n",
    "                            (2*DEG_TO_RAD*min(df_2MASS_South$Distance.D.Vgp.100.Mpc)))*2.*RAD_TO_DEG"
   ]
  },
  {
   "cell_type": "code",
   "execution_count": 71,
   "metadata": {
    "collapsed": false
   },
   "outputs": [],
   "source": [
    "group_output_df=data.frame(RA=df_2MASS_South$RA,\n",
    "                          Dec=df_2MASS_South$Dec,\n",
    "                          Velocity=df_2MASS_South$Velocity.in.CMB.frame..cosmological.adjustment.described.in.CF2.data.paper,\n",
    "                          Distance=df_2MASS_South$Distance.D.Vgp.100.Mpc,\n",
    "                          Radius_Turnaround=df_2MASS_South$Projected.second.turnaround.radius.anticipated.by.corrected.intrinsic.luminosity,\n",
    "                          N_group=df_2MASS_South$Number.of.group..nest..members.in.2MRS.K.11.75)"
   ]
  },
  {
   "cell_type": "code",
   "execution_count": 72,
   "metadata": {
    "collapsed": true
   },
   "outputs": [],
   "source": [
    "write.table(group_output_df,\"2MASS_Groups_clean.txt\",sep=\"\\t\",row.names = FALSE, col.names = FALSE, quote = FALSE)"
   ]
  },
  {
   "cell_type": "code",
   "execution_count": 84,
   "metadata": {
    "collapsed": false
   },
   "outputs": [
    {
     "data": {
      "text/html": [
       "5.225"
      ],
      "text/latex": [
       "5.225"
      ],
      "text/markdown": [
       "5.225"
      ],
      "text/plain": [
       "[1] 5.225"
      ]
     },
     "metadata": {},
     "output_type": "display_data"
    }
   ],
   "source": [
    "max(group_output_df$Radius_Turnaround)"
   ]
  },
  {
   "cell_type": "code",
   "execution_count": 87,
   "metadata": {
    "collapsed": false
   },
   "outputs": [
    {
     "data": {
      "text/html": [
       "5365"
      ],
      "text/latex": [
       "5365"
      ],
      "text/markdown": [
       "5365"
      ],
      "text/plain": [
       "[1] 5365"
      ]
     },
     "metadata": {},
     "output_type": "display_data"
    }
   ],
   "source": [
    "length(which(df_2MASS_South$Bi.weight.projected.virial.radius.Rij > 0))"
   ]
  },
  {
   "cell_type": "code",
   "execution_count": null,
   "metadata": {
    "collapsed": true
   },
   "outputs": [],
   "source": []
  }
 ],
 "metadata": {
  "kernelspec": {
   "display_name": "R",
   "language": "R",
   "name": "ir"
  },
  "language_info": {
   "codemirror_mode": "r",
   "file_extension": ".r",
   "mimetype": "text/x-r-source",
   "name": "R",
   "pygments_lexer": "r",
   "version": "3.3.0"
  }
 },
 "nbformat": 4,
 "nbformat_minor": 0
}
